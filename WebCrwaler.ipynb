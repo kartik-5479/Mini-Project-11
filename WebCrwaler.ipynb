{
  "nbformat": 4,
  "nbformat_minor": 0,
  "metadata": {
    "colab": {
      "provenance": [],
      "authorship_tag": "ABX9TyN6I3a2ewzqiLha5E4OzvcX",
      "include_colab_link": true
    },
    "kernelspec": {
      "name": "python3",
      "display_name": "Python 3"
    },
    "language_info": {
      "name": "python"
    }
  },
  "cells": [
    {
      "cell_type": "markdown",
      "metadata": {
        "id": "view-in-github",
        "colab_type": "text"
      },
      "source": [
        "<a href=\"https://colab.research.google.com/github/kartik-5479/Mini-Project-11/blob/main/WebCrwaler.ipynb\" target=\"_parent\"><img src=\"https://colab.research.google.com/assets/colab-badge.svg\" alt=\"Open In Colab\"/></a>"
      ]
    },
    {
      "cell_type": "markdown",
      "metadata": {
        "id": "65fbe3f9"
      },
      "source": [
        "## Install necessary libraries\n",
        "\n",
        "### Subtask:\n",
        "Install the libraries needed for web scraping and data manipulation.\n"
      ]
    },
    {
      "cell_type": "code",
      "metadata": {
        "colab": {
          "base_uri": "https://localhost:8080/"
        },
        "id": "63daa8fe",
        "outputId": "f7e4e637-2f73-47bc-a4ab-ca4c261b2bd0"
      },
      "source": [
        "%pip install requests beautifulsoup4 pandas"
      ],
      "execution_count": 1,
      "outputs": [
        {
          "output_type": "stream",
          "name": "stdout",
          "text": [
            "Requirement already satisfied: requests in /usr/local/lib/python3.11/dist-packages (2.32.3)\n",
            "Requirement already satisfied: beautifulsoup4 in /usr/local/lib/python3.11/dist-packages (4.13.4)\n",
            "Requirement already satisfied: pandas in /usr/local/lib/python3.11/dist-packages (2.2.2)\n",
            "Requirement already satisfied: charset-normalizer<4,>=2 in /usr/local/lib/python3.11/dist-packages (from requests) (3.4.2)\n",
            "Requirement already satisfied: idna<4,>=2.5 in /usr/local/lib/python3.11/dist-packages (from requests) (3.10)\n",
            "Requirement already satisfied: urllib3<3,>=1.21.1 in /usr/local/lib/python3.11/dist-packages (from requests) (2.4.0)\n",
            "Requirement already satisfied: certifi>=2017.4.17 in /usr/local/lib/python3.11/dist-packages (from requests) (2025.6.15)\n",
            "Requirement already satisfied: soupsieve>1.2 in /usr/local/lib/python3.11/dist-packages (from beautifulsoup4) (2.7)\n",
            "Requirement already satisfied: typing-extensions>=4.0.0 in /usr/local/lib/python3.11/dist-packages (from beautifulsoup4) (4.14.0)\n",
            "Requirement already satisfied: numpy>=1.23.2 in /usr/local/lib/python3.11/dist-packages (from pandas) (2.0.2)\n",
            "Requirement already satisfied: python-dateutil>=2.8.2 in /usr/local/lib/python3.11/dist-packages (from pandas) (2.9.0.post0)\n",
            "Requirement already satisfied: pytz>=2020.1 in /usr/local/lib/python3.11/dist-packages (from pandas) (2025.2)\n",
            "Requirement already satisfied: tzdata>=2022.7 in /usr/local/lib/python3.11/dist-packages (from pandas) (2025.2)\n",
            "Requirement already satisfied: six>=1.5 in /usr/local/lib/python3.11/dist-packages (from python-dateutil>=2.8.2->pandas) (1.17.0)\n"
          ]
        }
      ]
    },
    {
      "cell_type": "markdown",
      "metadata": {
        "id": "47fa0b57"
      },
      "source": [
        "## Get website url\n",
        "\n",
        "### Subtask:\n",
        "Get the URL of the website to scrape.\n"
      ]
    },
    {
      "cell_type": "code",
      "metadata": {
        "colab": {
          "base_uri": "https://localhost:8080/"
        },
        "id": "eef4cf7e",
        "outputId": "1724ecaf-8109-4fc7-e1a3-4ac91854c395"
      },
      "source": [
        "url = \"https://www.scrapingbee.com/blog/web-scraping-with-python/\"\n",
        "print(url)"
      ],
      "execution_count": 2,
      "outputs": [
        {
          "output_type": "stream",
          "name": "stdout",
          "text": [
            "https://www.scrapingbee.com/blog/web-scraping-with-python/\n"
          ]
        }
      ]
    },
    {
      "cell_type": "markdown",
      "metadata": {
        "id": "d8cba9b6"
      },
      "source": [
        "## Scrape website\n",
        "\n",
        "### Subtask:\n",
        "Scrape the website for email addresses.\n"
      ]
    },
    {
      "cell_type": "code",
      "metadata": {
        "colab": {
          "base_uri": "https://localhost:8080/"
        },
        "id": "7594a2b5",
        "outputId": "d274e2e6-d823-401b-8353-6e6c05aaa965"
      },
      "source": [
        "import requests\n",
        "from bs4 import BeautifulSoup\n",
        "import re\n",
        "\n",
        "# Fetch the webpage content\n",
        "response = requests.get(url)\n",
        "html_content = response.text\n",
        "\n",
        "# Parse the HTML content\n",
        "soup = BeautifulSoup(html_content, 'html.parser')\n",
        "\n",
        "# Find all email addresses\n",
        "email_pattern = r'\\b[A-Za-z0-9._%+-]+@[A-Za-z0-9.-]+\\.[A-Z|a-z]{2,}\\b'\n",
        "emails = re.findall(email_pattern, html_content)\n",
        "\n",
        "# Store the found email addresses in a list (already done by re.findall)\n",
        "print(emails)"
      ],
      "execution_count": 3,
      "outputs": [
        {
          "output_type": "stream",
          "name": "stdout",
          "text": [
            "['contact@scrapingbee.com', 'u003econtact@scrapingbee.com', 'contact@scrapingbee.com', 'contact@scrapingbee.com']\n"
          ]
        }
      ]
    },
    {
      "cell_type": "markdown",
      "metadata": {
        "id": "fbd967b5"
      },
      "source": [
        "## Save to csv\n",
        "\n",
        "### Subtask:\n",
        "Save the scraped email addresses to a CSV file.\n"
      ]
    },
    {
      "cell_type": "code",
      "metadata": {
        "id": "f4a95fa9"
      },
      "source": [
        "import pandas as pd\n",
        "\n",
        "# Create a pandas Series from the emails list\n",
        "emails_series = pd.Series(emails)\n",
        "\n",
        "# Convert the Series to a DataFrame\n",
        "emails_df = emails_series.to_frame(name='email_address')\n",
        "\n",
        "# Save the DataFrame to a CSV file named scraped_emails.csv without including the index\n",
        "emails_df.to_csv('scraped_emails.csv', index=False)"
      ],
      "execution_count": 4,
      "outputs": []
    },
    {
      "cell_type": "markdown",
      "metadata": {
        "id": "c5e9a511"
      },
      "source": [
        "## Provide download link\n",
        "\n",
        "### Subtask:\n",
        "Provide a download link for the CSV file.\n"
      ]
    },
    {
      "cell_type": "markdown",
      "metadata": {
        "id": "91c37b04"
      },
      "source": [
        "**Reasoning**:\n",
        "Provide a download link for the CSV file using `files.download`.\n",
        "\n"
      ]
    },
    {
      "cell_type": "code",
      "metadata": {
        "colab": {
          "base_uri": "https://localhost:8080/",
          "height": 17
        },
        "id": "48ca35d9",
        "outputId": "d835b879-9151-479a-aae9-fa87b25b42b7"
      },
      "source": [
        "from google.colab import files\n",
        "files.download('scraped_emails.csv')"
      ],
      "execution_count": 5,
      "outputs": [
        {
          "output_type": "display_data",
          "data": {
            "text/plain": [
              "<IPython.core.display.Javascript object>"
            ],
            "application/javascript": [
              "\n",
              "    async function download(id, filename, size) {\n",
              "      if (!google.colab.kernel.accessAllowed) {\n",
              "        return;\n",
              "      }\n",
              "      const div = document.createElement('div');\n",
              "      const label = document.createElement('label');\n",
              "      label.textContent = `Downloading \"${filename}\": `;\n",
              "      div.appendChild(label);\n",
              "      const progress = document.createElement('progress');\n",
              "      progress.max = size;\n",
              "      div.appendChild(progress);\n",
              "      document.body.appendChild(div);\n",
              "\n",
              "      const buffers = [];\n",
              "      let downloaded = 0;\n",
              "\n",
              "      const channel = await google.colab.kernel.comms.open(id);\n",
              "      // Send a message to notify the kernel that we're ready.\n",
              "      channel.send({})\n",
              "\n",
              "      for await (const message of channel.messages) {\n",
              "        // Send a message to notify the kernel that we're ready.\n",
              "        channel.send({})\n",
              "        if (message.buffers) {\n",
              "          for (const buffer of message.buffers) {\n",
              "            buffers.push(buffer);\n",
              "            downloaded += buffer.byteLength;\n",
              "            progress.value = downloaded;\n",
              "          }\n",
              "        }\n",
              "      }\n",
              "      const blob = new Blob(buffers, {type: 'application/binary'});\n",
              "      const a = document.createElement('a');\n",
              "      a.href = window.URL.createObjectURL(blob);\n",
              "      a.download = filename;\n",
              "      div.appendChild(a);\n",
              "      a.click();\n",
              "      div.remove();\n",
              "    }\n",
              "  "
            ]
          },
          "metadata": {}
        },
        {
          "output_type": "display_data",
          "data": {
            "text/plain": [
              "<IPython.core.display.Javascript object>"
            ],
            "application/javascript": [
              "download(\"download_bec224d7-052a-4e24-89a3-cbe7ff02cbfd\", \"scraped_emails.csv\", 115)"
            ]
          },
          "metadata": {}
        }
      ]
    },
    {
      "cell_type": "markdown",
      "metadata": {
        "id": "2f2003f2"
      },
      "source": [
        "## Summary:\n",
        "\n",
        "### Data Analysis Key Findings\n",
        "\n",
        "*   The necessary libraries (`requests`, `beautifulsoup4`, and `pandas`) were already installed.\n",
        "*   The URL for scraping was successfully identified as \"https://www.scrapingbee.com/blog/web-scraping-with-python/\".\n",
        "*   The website content was successfully fetched and parsed.\n",
        "*   Email addresses were extracted using a regular expression, resulting in the list: `['contact@scrapingbee.com', 'u003econtact@scrapingbee.com', 'contact@scrapingbee.com', 'contact@scrapingbee.com']`.\n",
        "*   The extracted email addresses were successfully saved to a CSV file named `scraped_emails.csv` without an index column.\n",
        "*   A download link for the `scraped_emails.csv` file was generated.\n",
        "\n",
        "### Insights or Next Steps\n",
        "\n",
        "*   The extracted emails contain duplicates and a potential HTML entity (`u003e`). A data cleaning step should be added to remove duplicates and handle such artifacts.\n",
        "*   The current scraping only targets email addresses within the main HTML content. Future steps could involve exploring linked pages or specific HTML elements for a more comprehensive email extraction.\n"
      ]
    }
  ]
}